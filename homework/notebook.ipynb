{
 "cells": [
  {
   "cell_type": "code",
   "execution_count": null,
   "id": "3add9eaa",
   "metadata": {
    "vscode": {
     "languageId": "plaintext"
    }
   },
   "outputs": [],
   "source": [
    "import pandas as pd  #  type: ignore\n",
    "\n",
    "pd.set_option(\"display.notebook_repr_html\", True)"
   ]
  },
  {
   "cell_type": "code",
   "execution_count": null,
   "id": "7db1c186",
   "metadata": {
    "vscode": {
     "languageId": "plaintext"
    }
   },
   "outputs": [],
   "source": [
    "# Carga del archivo desde un repo en GitHub\n",
    "truck_events = pd.read_csv(\"files/input/truck_event_text_partition.csv\")\n",
    "\n",
    "# Cabecera del archivo\n",
    "truck_events.head()"
   ]
  },
  {
   "cell_type": "code",
   "execution_count": null,
   "id": "f601d8a9",
   "metadata": {
    "vscode": {
     "languageId": "plaintext"
    }
   },
   "outputs": [],
   "source": [
    "# Obtención de un subconjunto de registros\n",
    "# truck_events_subset = truck_events.head(10) \n",
    "truck_events_subset = truck_events[0:10]\n",
    "truck_events_subset\n"
   ]
  },
  {
   "cell_type": "code",
   "execution_count": null,
   "id": "de6aae37",
   "metadata": {
    "vscode": {
     "languageId": "plaintext"
    }
   },
   "outputs": [],
   "source": [
    "\n",
    "# Obtención de un subconjunto de columnas\n",
    "specific_columns = truck_events_subset[\n",
    "    [\"driverId\", \"eventTime\", \"eventType\"]\n",
    "]\n",
    "specific_columns\n"
   ]
  },
  {
   "cell_type": "code",
   "execution_count": null,
   "id": "1ea986d3",
   "metadata": {
    "vscode": {
     "languageId": "plaintext"
    }
   },
   "outputs": [],
   "source": [
    "# Obtención de un subconjunto de filas y columnas\n",
    "new_sub_set = truck_events.loc[0:10, [\"driverId\", \"eventTime\", \"eventType\"]]\n",
    "new_sub_set\n"
   ]
  },
  {
   "cell_type": "code",
   "execution_count": null,
   "id": "2e18383a",
   "metadata": {
    "vscode": {
     "languageId": "plaintext"
    }
   },
   "outputs": [],
   "source": [
    "# Obtención de un campo de un registro en particular\n",
    "truck_events.iloc[1]"
   ]
  },
  {
   "cell_type": "code",
   "execution_count": null,
   "id": "11ae15e0",
   "metadata": {
    "vscode": {
     "languageId": "plaintext"
    }
   },
   "outputs": [],
   "source": [
    "truck_events.iloc[1].eventKey"
   ]
  },
  {
   "cell_type": "code",
   "execution_count": null,
   "id": "fa26df72",
   "metadata": {
    "vscode": {
     "languageId": "plaintext"
    }
   },
   "outputs": [],
   "source": [
    "truck_events.iloc[1].eventKey"
   ]
  },
  {
   "cell_type": "code",
   "execution_count": null,
   "id": "a1eabf5b",
   "metadata": {
    "vscode": {
     "languageId": "plaintext"
    }
   },
   "outputs": [],
   "source": [
    "# Escritura de la tabla en el disco\n",
    "import os\n",
    "\n",
    "if not os.path.exists(\"files/output/\"):\n",
    "    os.makedirs(\"files/output/\")\n",
    "\n",
    "specific_columns.to_csv(\n",
    "    \"files/output/specific-columns.csv\",\n",
    "    sep=\",\",\n",
    "    header=True,\n",
    "    index=True,\n",
    ")"
   ]
  }
 ],
 "metadata": {
  "language_info": {
   "name": "python"
  }
 },
 "nbformat": 4,
 "nbformat_minor": 5
}
